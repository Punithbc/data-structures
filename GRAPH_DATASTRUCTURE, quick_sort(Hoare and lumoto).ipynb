{
 "cells": [
  {
   "cell_type": "code",
   "execution_count": 42,
   "id": "b8c5b2e4",
   "metadata": {},
   "outputs": [],
   "source": [
    "class Graph:\n",
    "    def __init__(self,edges):\n",
    "        self.edges = edges\n",
    "        self.graph_dict = {}\n",
    "        for start,end in self.edges:\n",
    "            if start in self.graph_dict:\n",
    "                self.graph_dict[start].append(end)\n",
    "            else:\n",
    "                self.graph_dict[start]=[end]\n",
    "                \n",
    "    def get_paths(self,start,end,path=[]):\n",
    "        path = path + [start]\n",
    "        if start==end:\n",
    "            return [path]\n",
    "        \n",
    "        if start not in self.graph_dict:\n",
    "            return []\n",
    "        \n",
    "        paths = []\n",
    "        for node in self.graph_dict[start]:\n",
    "            if node not in path:\n",
    "                new_path = self.get_paths(node,end,path)\n",
    "                for p in new_path:\n",
    "                    paths.append(p)\n",
    "            \n",
    "        return paths\n",
    "    \n",
    "    \n",
    "    def get_shortest_dist(self,start,end):\n",
    "        lsts = self.get_paths(start,end)\n",
    "        lengths = []\n",
    "        for lst in lsts:\n",
    "            lengths.append(len(lst))\n",
    "            \n",
    "        small_length = min(lengths)\n",
    "        final_lst = []\n",
    "        for lst in lsts:\n",
    "            if len(lst)==small_length:\n",
    "                final_lst.append(lst)\n",
    "                \n",
    "        return final_lst        \n",
    "        \n",
    "       \n",
    "    \n",
    "    \n",
    "    \n",
    "                "
   ]
  },
  {
   "cell_type": "code",
   "execution_count": 43,
   "id": "071b2801",
   "metadata": {},
   "outputs": [
    {
     "data": {
      "text/plain": [
       "{'Mumbai': ['Paris', 'Dubai'],\n",
       " 'Paris': ['Dubai', 'New York'],\n",
       " 'Dubai': ['New York'],\n",
       " 'New York': ['Toronto']}"
      ]
     },
     "execution_count": 43,
     "metadata": {},
     "output_type": "execute_result"
    }
   ],
   "source": [
    "routes = [\n",
    "        (\"Mumbai\", \"Paris\"),\n",
    "        (\"Mumbai\", \"Dubai\"),\n",
    "        (\"Paris\", \"Dubai\"),\n",
    "        (\"Paris\", \"New York\"),\n",
    "        (\"Dubai\", \"New York\"),\n",
    "        (\"New York\", \"Toronto\"),\n",
    "    ]\n",
    "\n",
    "route_graph = Graph(routes)\n",
    "\n",
    "start = \"Mumbai\"\n",
    "end = \"New York\"\n",
    "route_graph.graph_dict"
   ]
  },
  {
   "cell_type": "code",
   "execution_count": 44,
   "id": "fdd2adcc",
   "metadata": {},
   "outputs": [
    {
     "data": {
      "text/plain": [
       "[['Mumbai', 'Paris', 'Dubai', 'New York'],\n",
       " ['Mumbai', 'Paris', 'New York'],\n",
       " ['Mumbai', 'Dubai', 'New York']]"
      ]
     },
     "execution_count": 44,
     "metadata": {},
     "output_type": "execute_result"
    }
   ],
   "source": [
    "route_graph.get_paths(start,end)"
   ]
  },
  {
   "cell_type": "code",
   "execution_count": 45,
   "id": "eb61facf",
   "metadata": {},
   "outputs": [
    {
     "data": {
      "text/plain": [
       "[['Mumbai', 'Paris', 'New York'], ['Mumbai', 'Dubai', 'New York']]"
      ]
     },
     "execution_count": 45,
     "metadata": {},
     "output_type": "execute_result"
    }
   ],
   "source": [
    "route_graph.get_shortest_dist(start,end)"
   ]
  },
  {
   "cell_type": "code",
   "execution_count": 14,
   "id": "996287aa",
   "metadata": {},
   "outputs": [],
   "source": [
    "def swap_elements(a,b,arr):\n",
    "    if a!=b:\n",
    "        arr[a],arr[b]=arr[b],arr[a]\n",
    "\n",
    "\n",
    "def get_partition_element(elements,start_index,end_index):\n",
    "    pivot_index = start_index\n",
    "    pivot = elements[pivot_index]\n",
    "    while start_index < end_index:\n",
    "        while start_index < len(elements) and elements[start_index] <= pivot:\n",
    "            start_index+=1\n",
    "\n",
    "        while elements[end_index] > pivot:\n",
    "            end_index-=1\n",
    "\n",
    "        if start_index < end_index:\n",
    "            swap_elements(start_index,end_index,elements)\n",
    "    swap_elements(pivot_index,end_index,elements)\n",
    "    return end_index\n",
    "    \n",
    "    \n",
    "def quick_sort(elements,start_index,end_index):\n",
    "    if start_index < end_index:\n",
    "        pi = get_partition_element(elements,start_index,end_index)\n",
    "        quick_sort(elements,start_index,pi-1)\n",
    "        quick_sort(elements,pi+1,end_index)\n",
    "        \n"
   ]
  },
  {
   "cell_type": "code",
   "execution_count": 15,
   "id": "2a7972ec",
   "metadata": {},
   "outputs": [
    {
     "data": {
      "text/plain": [
       "[2, 7, 9, 11, 15, 28, 29]"
      ]
     },
     "execution_count": 15,
     "metadata": {},
     "output_type": "execute_result"
    }
   ],
   "source": [
    "lst = [11,9,29,7,2,15,28]\n",
    "quick_sort(lst,0,len(lst)-1)\n",
    "lst"
   ]
  },
  {
   "cell_type": "code",
   "execution_count": null,
   "id": "86103a7c",
   "metadata": {},
   "outputs": [],
   "source": [
    "lst[0:3]"
   ]
  },
  {
   "cell_type": "code",
   "execution_count": 16,
   "id": "e39c0677",
   "metadata": {},
   "outputs": [
    {
     "name": "stdout",
     "output_type": "stream",
     "text": [
      "sorted array: [2, 7, 9, 11, 15, 28, 29]\n",
      "sorted array: [3, 7, 9, 11]\n",
      "sorted array: [10, 21, 22, 25]\n",
      "sorted array: [15, 28, 29]\n",
      "sorted array: []\n",
      "sorted array: [6]\n"
     ]
    }
   ],
   "source": [
    "def swap(a, b, arr):\n",
    "    if a!=b:\n",
    "        tmp = arr[a]\n",
    "        arr[a] = arr[b]\n",
    "        arr[b] = tmp\n",
    "\n",
    "def quick_sort(elements, start, end):\n",
    "    if len(elements)== 1:\n",
    "        return\n",
    "    if start < end:\n",
    "        pi = partition(elements, start, end)\n",
    "        quick_sort(elements, start, pi-1)\n",
    "        quick_sort(elements, pi+1, end)\n",
    "\n",
    "def partition(elements, start, end):\n",
    "    pivot = elements[end]\n",
    "    p_index = start\n",
    "\n",
    "    for i in range(start, end):\n",
    "        if elements[i] <= pivot:\n",
    "            swap(i, p_index, elements)\n",
    "            p_index += 1\n",
    "\n",
    "    swap(p_index, end, elements)\n",
    "\n",
    "    return p_index\n",
    "\n",
    "\n",
    "if __name__ == '__main__':\n",
    "    tests = [\n",
    "        [11,9,29,7,2,15,28],\n",
    "        [3, 7, 9, 11],\n",
    "        [25, 22, 21, 10],\n",
    "        [29, 15, 28],\n",
    "        [],\n",
    "        [6]\n",
    "    ]\n",
    "    # elements = [\"mona\", \"dhaval\", \"aamir\", \"tina\", \"chang\"]\n",
    "\n",
    "    for elements in tests:\n",
    "        quick_sort(elements, 0, len(elements)-1)\n",
    "        print(f'sorted array: {elements}')"
   ]
  },
  {
   "cell_type": "code",
   "execution_count": 18,
   "id": "b00d0c46",
   "metadata": {},
   "outputs": [
    {
     "name": "stdout",
     "output_type": "stream",
     "text": [
      "0\n",
      "1\n",
      "2\n",
      "3\n",
      "4\n",
      "5\n"
     ]
    }
   ],
   "source": [
    "l = [0,1,2,3,4,5,6]\n",
    "for i in range(0,len(l)-1):\n",
    "    print(i)"
   ]
  },
  {
   "cell_type": "code",
   "execution_count": null,
   "id": "a004185f",
   "metadata": {},
   "outputs": [],
   "source": []
  }
 ],
 "metadata": {
  "kernelspec": {
   "display_name": "Python 3",
   "language": "python",
   "name": "python3"
  },
  "language_info": {
   "codemirror_mode": {
    "name": "ipython",
    "version": 3
   },
   "file_extension": ".py",
   "mimetype": "text/x-python",
   "name": "python",
   "nbconvert_exporter": "python",
   "pygments_lexer": "ipython3",
   "version": "3.8.8"
  }
 },
 "nbformat": 4,
 "nbformat_minor": 5
}
