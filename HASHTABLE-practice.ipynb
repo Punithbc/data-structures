{
 "cells": [
  {
   "cell_type": "code",
   "execution_count": 1,
   "id": "bcd5aadb",
   "metadata": {},
   "outputs": [],
   "source": [
    "class HashTable:\n",
    "    def __init__(self):\n",
    "        self.MAX = 10\n",
    "        self.arr = [[] for i in range(self.MAX)]\n",
    "        \n",
    "    def get_hash(self,key):\n",
    "        h = 0\n",
    "        for i in key:\n",
    "            h+=ord(i)\n",
    "        return h % self.MAX\n",
    "    \n",
    "    def __getitem__(self,key):\n",
    "        h = self.get_hash(key)\n",
    "        for count, ele in enumerate(self.arr[h]):\n",
    "            if ele[0] == key:\n",
    "                return ele[1]\n",
    "    \n",
    "    \n",
    "    def __setitem__(self,key,value):\n",
    "        h = self.get_hash(key)\n",
    "        found = False\n",
    "        for count, ele in enumerate(self.arr[h]):\n",
    "            if len(ele) > 1 and ele[0]==key:\n",
    "                self.arr[h][count] = (key,value)\n",
    "                found = True\n",
    "             \n",
    "        if not found:\n",
    "            self.arr[h].append((key,value))\n",
    "   \n",
    "    def __delitem__(self,key):\n",
    "        h = self.get_hash(key)\n",
    "        for count, ele in enumerate(self.arr[h]):\n",
    "            if ele[0] == key:\n",
    "                del self.arr[h][count]\n",
    "                return\n",
    "                  \n",
    "        "
   ]
  },
  {
   "cell_type": "code",
   "execution_count": 2,
   "id": "801ae6dd",
   "metadata": {},
   "outputs": [],
   "source": [
    "t = HashTable()"
   ]
  },
  {
   "cell_type": "code",
   "execution_count": 3,
   "id": "4ac48020",
   "metadata": {},
   "outputs": [],
   "source": [
    "t[\"march 6\"] = 250\n",
    "t[\"april 5\"] = 299"
   ]
  },
  {
   "cell_type": "code",
   "execution_count": 4,
   "id": "de1b019c",
   "metadata": {},
   "outputs": [],
   "source": [
    "t[\"march 17\"] = 350"
   ]
  },
  {
   "cell_type": "code",
   "execution_count": 5,
   "id": "87825e6d",
   "metadata": {},
   "outputs": [
    {
     "data": {
      "text/plain": [
       "[[],\n",
       " [('april 5', 299)],\n",
       " [],\n",
       " [],\n",
       " [],\n",
       " [],\n",
       " [],\n",
       " [],\n",
       " [],\n",
       " [('march 6', 250), ('march 17', 350)]]"
      ]
     },
     "execution_count": 5,
     "metadata": {},
     "output_type": "execute_result"
    }
   ],
   "source": [
    "t.arr"
   ]
  },
  {
   "cell_type": "code",
   "execution_count": 6,
   "id": "497d0b78",
   "metadata": {},
   "outputs": [],
   "source": [
    "t[\"april 5\"] = 250"
   ]
  },
  {
   "cell_type": "code",
   "execution_count": 7,
   "id": "aed1e13c",
   "metadata": {},
   "outputs": [
    {
     "data": {
      "text/plain": [
       "350"
      ]
     },
     "execution_count": 7,
     "metadata": {},
     "output_type": "execute_result"
    }
   ],
   "source": [
    "t[\"march 17\"]"
   ]
  },
  {
   "cell_type": "code",
   "execution_count": 8,
   "id": "5b334a34",
   "metadata": {},
   "outputs": [],
   "source": [
    "del t['march 17']"
   ]
  },
  {
   "cell_type": "code",
   "execution_count": 9,
   "id": "f768b9e6",
   "metadata": {},
   "outputs": [
    {
     "data": {
      "text/plain": [
       "[[], [('april 5', 250)], [], [], [], [], [], [], [], [('march 6', 250)]]"
      ]
     },
     "execution_count": 9,
     "metadata": {},
     "output_type": "execute_result"
    }
   ],
   "source": [
    "t.arr"
   ]
  },
  {
   "cell_type": "code",
   "execution_count": null,
   "id": "2dd6b5b2",
   "metadata": {},
   "outputs": [],
   "source": []
  },
  {
   "cell_type": "code",
   "execution_count": null,
   "id": "56d1a2d1",
   "metadata": {},
   "outputs": [],
   "source": []
  }
 ],
 "metadata": {
  "kernelspec": {
   "display_name": "Python 3",
   "language": "python",
   "name": "python3"
  },
  "language_info": {
   "codemirror_mode": {
    "name": "ipython",
    "version": 3
   },
   "file_extension": ".py",
   "mimetype": "text/x-python",
   "name": "python",
   "nbconvert_exporter": "python",
   "pygments_lexer": "ipython3",
   "version": "3.8.8"
  }
 },
 "nbformat": 4,
 "nbformat_minor": 5
}
