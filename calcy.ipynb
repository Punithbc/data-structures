{
 "cells": [
  {
   "cell_type": "code",
   "execution_count": 1,
   "id": "80661754",
   "metadata": {},
   "outputs": [
    {
     "name": "stdout",
     "output_type": "stream",
     "text": [
      "What would you like to calculate\n",
      "2+3*4/2+2+2-2\n",
      "2+6+2+2-2\n",
      "8+2+2-2\n",
      "10+2-2\n",
      "12-2\n",
      "10\n",
      "What would you like to calculate\n",
      "2+3*4/2+2+2-2\n",
      "2+6+2+2-2\n",
      "8+2+2-2\n",
      "10+2-2\n",
      "12-2\n",
      "10\n",
      "What would you like to calculate\n",
      "2+2+\n",
      "invalid input\n",
      "What would you like to calculate\n",
      "quit\n"
     ]
    }
   ],
   "source": [
    "# import re\n",
    "# a= \"2+3*4/2+2+2-2\"\n",
    "yes = True\n",
    "while yes:\n",
    "    a = input(\"What would you like to calculate\\n\")\n",
    "    if a == \"quit\":\n",
    "        yes = False\n",
    "    elif a[-1] not in (\"*\",\"+\",\"-\",\"/\"):\n",
    "    \n",
    "        def check_count1(op):\n",
    "            k = 1\n",
    "            count1=0\n",
    "            while a[a.index(op)-k] not in (\"+\",\"-\",\"/\",\"*\"):\n",
    "                    k+=1\n",
    "                    count1+=1     \n",
    "            return count1\n",
    "        def check_count2(op):\n",
    "            k = 1\n",
    "            count2 = 0\n",
    "            while a[a.index(op)+k] not in (\"+\",\"-\",\"/\",\"*\"):\n",
    "                    k+=1\n",
    "                    count2+=1       \n",
    "            return count2\n",
    "\n",
    "        temp= \"\"\n",
    "        for count in range(1,len(a)):\n",
    "            if \"/\" in a:\n",
    "                count1 = check_count1(\"/\")\n",
    "                count2 = check_count2(\"/\")    \n",
    "                ans = int(a[a.index(\"/\")-count1:a.index(\"/\")])//int(a[a.index(\"/\")+count2])\n",
    "                if len(temp)==0:\n",
    "                    temp=a[0:a.index(\"/\")-count1]+f\"{ans}\"+a[a.index(\"/\")+2:len(a)]\n",
    "                    a = temp    \n",
    "            elif \"*\" in a:\n",
    "                count1 = check_count1(\"*\")\n",
    "                count2 = check_count2(\"*\")\n",
    "                ans = int(a[a.index(\"*\")-count1:a.index(\"*\")])*int(a[a.index(\"*\")+count2])\n",
    "                temp = a[0:a.index(\"*\")-count1]+f\"{ans}\"+a[a.index(\"*\")+2:len(a)]\n",
    "                a = temp\n",
    "                print(a)\n",
    "\n",
    "            elif \"+\" in a:\n",
    "        #         count1 = check_count1(\"+\")\n",
    "        #         count2 = check_count2(\"+\")\n",
    "                ans = int(a[a.index(\"+\")-1])+int(a[a.index(\"+\")+1])\n",
    "                temp = a[0:a.index(\"+\")-1]+f\"{ans}\"+a[a.index(\"+\")+2:len(a)]\n",
    "                a = temp\n",
    "                print(a)\n",
    "\n",
    "            elif \"-\" in a:\n",
    "        #         count1 = check_count1(\"-\")\n",
    "        #         count2 = check_count2(\"-\")\n",
    "                ans = int(a[a.index(\"-\")-1])-int(a[a.index(\"-\")+1])\n",
    "                temp = a[0:a.index(\"-\")-1]+f\"{ans}\"+a[a.index(\"-\")+2:len(a)]\n",
    "                a = temp\n",
    "                print(a)           \n",
    "    else:\n",
    "        print(\"invalid input\")\n"
   ]
  },
  {
   "cell_type": "code",
   "execution_count": null,
   "id": "29274328",
   "metadata": {},
   "outputs": [],
   "source": []
  },
  {
   "cell_type": "code",
   "execution_count": null,
   "id": "71fed69c",
   "metadata": {},
   "outputs": [],
   "source": []
  }
 ],
 "metadata": {
  "kernelspec": {
   "display_name": "Python 3",
   "language": "python",
   "name": "python3"
  },
  "language_info": {
   "codemirror_mode": {
    "name": "ipython",
    "version": 3
   },
   "file_extension": ".py",
   "mimetype": "text/x-python",
   "name": "python",
   "nbconvert_exporter": "python",
   "pygments_lexer": "ipython3",
   "version": "3.8.8"
  }
 },
 "nbformat": 4,
 "nbformat_minor": 5
}
