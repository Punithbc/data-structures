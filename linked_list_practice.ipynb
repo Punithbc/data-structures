{
 "cells": [
  {
   "cell_type": "code",
   "execution_count": 5,
   "id": "ff3b4523",
   "metadata": {},
   "outputs": [],
   "source": [
    "class Node:\n",
    "    def __init__(self,data,next):\n",
    "        self.data = data\n",
    "        self.next = next"
   ]
  },
  {
   "cell_type": "code",
   "execution_count": 244,
   "id": "edbf0db0",
   "metadata": {},
   "outputs": [],
   "source": [
    "class LinkedList(Node):\n",
    "    def __init__(self):\n",
    "        self.head = None\n",
    "        \n",
    "    def insert_at_beginning(self,data):   \n",
    "        if self.head is None:\n",
    "            self.head = Node(data,None)\n",
    "            return\n",
    "        else:\n",
    "            itr = self.head\n",
    "            temp = self.head\n",
    "            self.head = Node(data,temp)\n",
    "            return\n",
    "        \n",
    "    def insert_at_the_end(self,data):\n",
    "        if self.head is None:\n",
    "            self.head = Node(data,None)\n",
    "            return\n",
    "        else:\n",
    "            itr = self.head\n",
    "            i = 0\n",
    "            while i < self.get_len()-1:\n",
    "                itr = itr.next\n",
    "                i+=1\n",
    "            itr.next = Node(data,None)\n",
    "            \n",
    "    def insert_elements(self,data):\n",
    "        for ele in data:\n",
    "            self.insert_at_the_end(ele)\n",
    "        return\n",
    "    \n",
    "    def insert_at(self,index,data):\n",
    "        if self.head is None:\n",
    "            self.head = Node(data,None)\n",
    "            return\n",
    "        else:\n",
    "            itr = self.head\n",
    "            i = 0\n",
    "            while i < index-1:\n",
    "                itr = itr.next\n",
    "                i+=1\n",
    "            temp = itr.next\n",
    "            itr.next = Node(data,temp)\n",
    "            \n",
    "            \n",
    "    def remove_at(self,index):\n",
    "        if index == 0:\n",
    "            if self.head is None:\n",
    "                print(\"empty list\")\n",
    "            else:\n",
    "                self.head = None\n",
    "        else:\n",
    "            i = 0\n",
    "            itr = self.head\n",
    "            while i < index-1:\n",
    "                itr = itr.next\n",
    "                i+=1\n",
    "            print(itr.data)    \n",
    "            temp = itr.next.next\n",
    "            itr.next = temp\n",
    "            \n",
    "            \n",
    "    def remove_by_value(self,data):\n",
    "        if self.head is None:\n",
    "            print(\"there are no such elements\")\n",
    "        else:\n",
    "            itr = self.head\n",
    "            count = 0\n",
    "            while itr:\n",
    "                if itr.data == data:\n",
    "                    self.remove_at(count)\n",
    "                    return\n",
    "                count+=1\n",
    "                itr = itr.next\n",
    "            return\n",
    "        \n",
    "    def insert_after_value(self, value1, value2):\n",
    "        itr = self.head \n",
    "        while itr:\n",
    "            if itr.data == value1:\n",
    "                temp = itr.next\n",
    "                itr.next = Node(value2,temp)\n",
    "                return\n",
    "            itr = itr.next\n",
    "        return \n",
    "    \n",
    "    \n",
    "    def reverse_elements(self):\n",
    "        if self.head is None:\n",
    "            print(\"no elements found\")\n",
    "        else:\n",
    "            itr = self.head\n",
    "            prev = None\n",
    "            next = None\n",
    "            while itr:\n",
    "                next = itr.next\n",
    "                itr.next = prev\n",
    "                prev = itr\n",
    "                itr  = next\n",
    "            self.head = prev    \n",
    "                \n",
    "      \n",
    "            \n",
    "    def get_len(self):\n",
    "        itr = self.head\n",
    "        i = 0\n",
    "        while itr:\n",
    "            itr = itr.next\n",
    "            i+=1\n",
    "        return i    \n",
    "                \n",
    "        \n",
    "    def print_elements(self):\n",
    "        itr = self.head\n",
    "        while itr:\n",
    "            print(itr.data,\"-->\",end=\"\")\n",
    "            itr = itr.next\n",
    "            "
   ]
  },
  {
   "cell_type": "code",
   "execution_count": 245,
   "id": "9fe5a532",
   "metadata": {},
   "outputs": [],
   "source": [
    "myObj = LinkedList()"
   ]
  },
  {
   "cell_type": "code",
   "execution_count": 246,
   "id": "1789cefe",
   "metadata": {},
   "outputs": [],
   "source": [
    "myObj.insert_at_beginning(55)"
   ]
  },
  {
   "cell_type": "code",
   "execution_count": 247,
   "id": "23bb7eea",
   "metadata": {},
   "outputs": [],
   "source": [
    "myObj.insert_at_beginning(44)"
   ]
  },
  {
   "cell_type": "code",
   "execution_count": null,
   "id": "ff8400f7",
   "metadata": {},
   "outputs": [],
   "source": []
  },
  {
   "cell_type": "code",
   "execution_count": 248,
   "id": "adcecc99",
   "metadata": {},
   "outputs": [],
   "source": [
    "myObj.insert_at_the_end(4)"
   ]
  },
  {
   "cell_type": "code",
   "execution_count": 249,
   "id": "2c3b5010",
   "metadata": {},
   "outputs": [],
   "source": [
    "myObj.insert_elements([1,3,4,55,4,10000])"
   ]
  },
  {
   "cell_type": "code",
   "execution_count": 250,
   "id": "33f1483e",
   "metadata": {},
   "outputs": [
    {
     "name": "stdout",
     "output_type": "stream",
     "text": [
      "44 -->55 -->4 -->1 -->3 -->4 -->55 -->4 -->10000 -->"
     ]
    }
   ],
   "source": [
    "myObj.print_elements()"
   ]
  },
  {
   "cell_type": "code",
   "execution_count": 251,
   "id": "8be7dd88",
   "metadata": {},
   "outputs": [],
   "source": [
    "myObj.insert_at(3,777)"
   ]
  },
  {
   "cell_type": "code",
   "execution_count": 252,
   "id": "f45ef7fd",
   "metadata": {},
   "outputs": [
    {
     "name": "stdout",
     "output_type": "stream",
     "text": [
      "44 -->55 -->4 -->777 -->1 -->3 -->4 -->55 -->4 -->10000 -->"
     ]
    }
   ],
   "source": [
    "myObj.print_elements()"
   ]
  },
  {
   "cell_type": "code",
   "execution_count": 253,
   "id": "7a0d97e6",
   "metadata": {},
   "outputs": [],
   "source": [
    "myObj.insert_after_value(777,44444)"
   ]
  },
  {
   "cell_type": "code",
   "execution_count": 254,
   "id": "55eb95cf",
   "metadata": {},
   "outputs": [
    {
     "name": "stdout",
     "output_type": "stream",
     "text": [
      "44 -->55 -->4 -->777 -->44444 -->1 -->3 -->4 -->55 -->4 -->10000 -->"
     ]
    }
   ],
   "source": [
    "myObj.print_elements()"
   ]
  },
  {
   "cell_type": "code",
   "execution_count": 255,
   "id": "a12780ae",
   "metadata": {},
   "outputs": [
    {
     "name": "stdout",
     "output_type": "stream",
     "text": [
      "4\n"
     ]
    }
   ],
   "source": [
    "myObj.remove_by_value(10000)"
   ]
  },
  {
   "cell_type": "code",
   "execution_count": 256,
   "id": "062751dd",
   "metadata": {},
   "outputs": [
    {
     "name": "stdout",
     "output_type": "stream",
     "text": [
      "44 -->55 -->4 -->777 -->44444 -->1 -->3 -->4 -->55 -->4 -->"
     ]
    }
   ],
   "source": [
    "myObj.print_elements()"
   ]
  },
  {
   "cell_type": "code",
   "execution_count": 257,
   "id": "8de6c048",
   "metadata": {},
   "outputs": [],
   "source": [
    "myObj.reverse_elements()"
   ]
  },
  {
   "cell_type": "code",
   "execution_count": 258,
   "id": "943a5c79",
   "metadata": {},
   "outputs": [
    {
     "name": "stdout",
     "output_type": "stream",
     "text": [
      "4 -->55 -->4 -->3 -->1 -->44444 -->777 -->4 -->55 -->44 -->"
     ]
    }
   ],
   "source": [
    "myObj.print_elements()"
   ]
  },
  {
   "cell_type": "code",
   "execution_count": null,
   "id": "dc209015",
   "metadata": {},
   "outputs": [],
   "source": []
  }
 ],
 "metadata": {
  "kernelspec": {
   "display_name": "Python 3",
   "language": "python",
   "name": "python3"
  },
  "language_info": {
   "codemirror_mode": {
    "name": "ipython",
    "version": 3
   },
   "file_extension": ".py",
   "mimetype": "text/x-python",
   "name": "python",
   "nbconvert_exporter": "python",
   "pygments_lexer": "ipython3",
   "version": "3.8.8"
  }
 },
 "nbformat": 4,
 "nbformat_minor": 5
}
