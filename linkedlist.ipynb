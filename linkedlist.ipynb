{
 "cells": [
  {
   "cell_type": "code",
   "execution_count": 48,
   "id": "58c16574",
   "metadata": {},
   "outputs": [],
   "source": [
    "class Node:\n",
    "    def __init__(self,data,next):\n",
    "        self.data = data\n",
    "        self.next = next\n",
    "         \n",
    "class Linkedlist(Node):\n",
    "    def __init__(self):\n",
    "        self.head = None\n",
    "        \n",
    "    def insert_at_beginning(self,data):\n",
    "        if self.head is None:\n",
    "            self.head = Node(data,None)\n",
    "            return\n",
    "        else:\n",
    "            temp = self.head\n",
    "            self.head = Node(data,temp)\n",
    "            return\n",
    "        \n",
    "        \n",
    "    def insert_at_end(self,data):\n",
    "        if self.head is None:\n",
    "            self.head = Node(data,None)\n",
    "            return\n",
    "        else:    \n",
    "            itr = self.head\n",
    "            i = 0\n",
    "            while i<self.get_len()-1:\n",
    "                itr = itr.next\n",
    "                i+=1\n",
    "\n",
    "            itr.next= Node(data,None) \n",
    "            return\n",
    "        \n",
    "    def get_len(self):\n",
    "        itr = self.head\n",
    "        count = 0\n",
    "        while itr:\n",
    "            count+=1\n",
    "            itr = itr.next\n",
    "        return count    \n",
    "        \n",
    "            \n",
    "    def print_elements(self):\n",
    "        itr = self.head\n",
    "        while itr:\n",
    "            print(itr.data,\"-->\",end=\"\")\n",
    "            itr = itr.next\n",
    "        return    \n",
    "    \n",
    "    def insert_elements(self,data):\n",
    "        self.head = None\n",
    "        itr = self.head\n",
    "        for i in data:\n",
    "            itr= self.insert_at_end(i)\n",
    "         \n",
    "        self.print_elements()\n",
    "        return\n",
    "    \n",
    "    def insert_at(self,index,data):\n",
    "        if index == 0:\n",
    "            temp = self.head\n",
    "            self.head = Node(data,temp)\n",
    "            \n",
    "        else:    \n",
    "            itr = self.head\n",
    "            i = 0\n",
    "            while i < index-1:\n",
    "                print(itr.data)\n",
    "                itr = itr.next\n",
    "                i+=1\n",
    "                \n",
    "            temp = itr.next   \n",
    "            itr.next = Node(data,temp)\n",
    "            \n",
    "            \n",
    "            \n",
    "    def remove_at(self,index):\n",
    "        if index==0:\n",
    "            if self.head is None:\n",
    "                print(\"empty list\")\n",
    "        else:\n",
    "            itr = self.head\n",
    "            i = 0\n",
    "            while i < index-1:\n",
    "                itr = itr.next\n",
    "                i+=1\n",
    "                 \n",
    "            itr.next = itr.next.next\n",
    "            \n",
    "    def remove_by_value(self,value):\n",
    "        itr = self.head\n",
    "        count = 0\n",
    "        while itr:\n",
    "            if itr.data == value:\n",
    "                self.remove_at(count)\n",
    "            count+=1\n",
    "            itr = itr.next\n",
    "            \n",
    "    def insert_after_value(self,value1,value2):\n",
    "        itr = self.head\n",
    "        count = 0\n",
    "        while itr:\n",
    "            if itr.data == value1:\n",
    "                temp = itr.next\n",
    "                itr.next = Node(value2,temp)\n",
    "            itr= itr.next\n",
    "            \n",
    "            \n",
    "    def reverse_linkedlist(self):\n",
    "        itr = self.head\n",
    "        prev = None\n",
    "        next = None\n",
    "        while itr:\n",
    "            next = itr.next\n",
    "            itr.next = prev\n",
    "            prev = itr\n",
    "            itr = next\n",
    "        self.head = prev\n",
    "            \n",
    "            \n",
    "\n",
    "                \n",
    "                     "
   ]
  },
  {
   "cell_type": "code",
   "execution_count": 49,
   "id": "e7153e75",
   "metadata": {},
   "outputs": [
    {
     "name": "stdout",
     "output_type": "stream",
     "text": [
      "0 -->1 -->2 -->3 -->4 -->5 -->"
     ]
    }
   ],
   "source": [
    "mydata = Linkedlist()\n",
    "mydata.insert_elements([0,1,2,3,4,5])"
   ]
  },
  {
   "cell_type": "code",
   "execution_count": 50,
   "id": "bedbf99e",
   "metadata": {},
   "outputs": [
    {
     "name": "stdout",
     "output_type": "stream",
     "text": [
      "0\n"
     ]
    }
   ],
   "source": [
    "mydata.insert_at(2,100)"
   ]
  },
  {
   "cell_type": "code",
   "execution_count": 51,
   "id": "a89ed2a5",
   "metadata": {},
   "outputs": [
    {
     "name": "stdout",
     "output_type": "stream",
     "text": [
      "0 -->1 -->100 -->2 -->3 -->4 -->5 -->"
     ]
    }
   ],
   "source": [
    "mydata.print_elements()"
   ]
  },
  {
   "cell_type": "code",
   "execution_count": 52,
   "id": "fc9c518f",
   "metadata": {},
   "outputs": [
    {
     "name": "stdout",
     "output_type": "stream",
     "text": [
      "1000 -->0 -->1 -->100 -->2 -->3 -->4 -->5 -->"
     ]
    }
   ],
   "source": [
    "mydata.insert_at_beginning(1000)\n",
    "mydata.print_elements()"
   ]
  },
  {
   "cell_type": "code",
   "execution_count": 53,
   "id": "c2027a7a",
   "metadata": {},
   "outputs": [],
   "source": [
    "mydata.remove_at(1)"
   ]
  },
  {
   "cell_type": "code",
   "execution_count": 54,
   "id": "eeed6df2",
   "metadata": {},
   "outputs": [
    {
     "name": "stdout",
     "output_type": "stream",
     "text": [
      "1000 -->1 -->100 -->2 -->3 -->4 -->5 -->"
     ]
    }
   ],
   "source": [
    "mydata.print_elements()"
   ]
  },
  {
   "cell_type": "code",
   "execution_count": 55,
   "id": "2765542d",
   "metadata": {},
   "outputs": [],
   "source": [
    "mydata.remove_by_value(2)"
   ]
  },
  {
   "cell_type": "code",
   "execution_count": 56,
   "id": "2a240d4e",
   "metadata": {},
   "outputs": [
    {
     "name": "stdout",
     "output_type": "stream",
     "text": [
      "1000 -->1 -->100 -->3 -->4 -->5 -->"
     ]
    }
   ],
   "source": [
    "mydata.print_elements()"
   ]
  },
  {
   "cell_type": "code",
   "execution_count": 57,
   "id": "326688fa",
   "metadata": {},
   "outputs": [],
   "source": [
    "mydata.insert_after_value(3,45)"
   ]
  },
  {
   "cell_type": "code",
   "execution_count": 58,
   "id": "5139ad5b",
   "metadata": {},
   "outputs": [
    {
     "name": "stdout",
     "output_type": "stream",
     "text": [
      "1000 -->1 -->100 -->3 -->45 -->4 -->5 -->"
     ]
    }
   ],
   "source": [
    "mydata.print_elements()"
   ]
  },
  {
   "cell_type": "code",
   "execution_count": 59,
   "id": "487ea91a",
   "metadata": {},
   "outputs": [],
   "source": [
    "mydata.reverse_linkedlist()"
   ]
  },
  {
   "cell_type": "code",
   "execution_count": 60,
   "id": "9d5eb584",
   "metadata": {},
   "outputs": [
    {
     "name": "stdout",
     "output_type": "stream",
     "text": [
      "5 -->4 -->45 -->3 -->100 -->1 -->1000 -->"
     ]
    }
   ],
   "source": [
    "mydata.print_elements()"
   ]
  },
  {
   "cell_type": "code",
   "execution_count": null,
   "id": "b296544a",
   "metadata": {},
   "outputs": [],
   "source": []
  }
 ],
 "metadata": {
  "kernelspec": {
   "display_name": "Python 3",
   "language": "python",
   "name": "python3"
  },
  "language_info": {
   "codemirror_mode": {
    "name": "ipython",
    "version": 3
   },
   "file_extension": ".py",
   "mimetype": "text/x-python",
   "name": "python",
   "nbconvert_exporter": "python",
   "pygments_lexer": "ipython3",
   "version": "3.8.8"
  }
 },
 "nbformat": 4,
 "nbformat_minor": 5
}
