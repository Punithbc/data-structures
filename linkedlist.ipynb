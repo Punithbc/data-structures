{
 "cells": [
  {
   "cell_type": "code",
   "execution_count": 1,
   "id": "a19febbf",
   "metadata": {},
   "outputs": [],
   "source": [
    "class Node:\n",
    "    def __init__(self,data,next):\n",
    "        self.data = data\n",
    "        self.next = next\n",
    "         \n",
    "class Linkedlist(Node):\n",
    "    def __init__(self):\n",
    "        self.head = None\n",
    "        \n",
    "    def insert_at_beginning(self,data):\n",
    "        if self.head is None:\n",
    "            self.head = Node(data,None)\n",
    "            return\n",
    "        else:\n",
    "            temp = self.head\n",
    "            self.head = Node(data,temp)\n",
    "            return\n",
    "        \n",
    "        \n",
    "    def insert_at_end(self,data):\n",
    "        if self.head is None:\n",
    "            self.head = Node(data,None)\n",
    "            return\n",
    "        else:    \n",
    "            itr = self.head\n",
    "            i = 0\n",
    "            while i<self.get_len()-1:\n",
    "                itr = itr.next\n",
    "                i+=1\n",
    "\n",
    "            itr.next= Node(data,None) \n",
    "            return\n",
    "        \n",
    "    def get_len(self):\n",
    "        itr = self.head\n",
    "        count = 0\n",
    "        while itr:\n",
    "            count+=1\n",
    "            itr = itr.next\n",
    "        return count    \n",
    "        \n",
    "            \n",
    "    def print_elements(self):\n",
    "        itr = self.head\n",
    "        while itr:\n",
    "            print(itr.data,\"-->\",end=\"\")\n",
    "            itr = itr.next\n",
    "        return    \n",
    "    \n",
    "    def insert_elements(self,data):\n",
    "        self.head = None\n",
    "        itr = self.head\n",
    "        for i in data:\n",
    "            itr= self.insert_at_end(i)\n",
    "         \n",
    "        self.print_elements()\n",
    "        return\n",
    "    \n",
    "    def insert_at(self,index,data):\n",
    "        if index == 0:\n",
    "            temp = self.head\n",
    "            self.head = Node(data,temp)\n",
    "            \n",
    "        else:    \n",
    "            itr = self.head\n",
    "            i = 0\n",
    "            while i < index-1:\n",
    "                print(itr.data)\n",
    "                itr = itr.next\n",
    "                i+=1\n",
    "                \n",
    "            temp = itr.next   \n",
    "            itr.next = Node(data,temp)\n",
    "            \n",
    "            \n",
    "            \n",
    "    def remove_at(self,index):\n",
    "        if index==0:\n",
    "            if self.head is None:\n",
    "                print(\"empty list\")\n",
    "        else:\n",
    "            itr = self.head\n",
    "            i = 0\n",
    "            while i < index-1:\n",
    "                itr = itr.next\n",
    "                i+=1\n",
    "                 \n",
    "            itr.next = itr.next.next\n",
    "            \n",
    "    def remove_by_value(self,value):\n",
    "        itr = self.head\n",
    "        count = 0\n",
    "        while itr:\n",
    "            if itr.data == value:\n",
    "                self.remove_at(count)\n",
    "            count+=1\n",
    "            itr = itr.next\n",
    "            \n",
    "    def insert_after_value(self,value1,value2):\n",
    "        itr = self.head\n",
    "        count = 0\n",
    "        while itr:\n",
    "            if itr.data == value1:\n",
    "                temp = itr.next\n",
    "                itr.next = Node(value2,temp)\n",
    "            itr= itr.next\n",
    "                \n",
    "                \n",
    "                     "
   ]
  },
  {
   "cell_type": "code",
   "execution_count": 2,
   "id": "4729fe43",
   "metadata": {},
   "outputs": [
    {
     "name": "stdout",
     "output_type": "stream",
     "text": [
      "0 -->1 -->2 -->3 -->4 -->5 -->"
     ]
    }
   ],
   "source": [
    "mydata = Linkedlist()\n",
    "mydata.insert_elements([0,1,2,3,4,5])"
   ]
  },
  {
   "cell_type": "code",
   "execution_count": 3,
   "id": "8b0bcbe6",
   "metadata": {},
   "outputs": [
    {
     "name": "stdout",
     "output_type": "stream",
     "text": [
      "0\n"
     ]
    }
   ],
   "source": [
    "mydata.insert_at(2,100)"
   ]
  },
  {
   "cell_type": "code",
   "execution_count": 4,
   "id": "96716015",
   "metadata": {},
   "outputs": [
    {
     "name": "stdout",
     "output_type": "stream",
     "text": [
      "0 -->1 -->100 -->2 -->3 -->4 -->5 -->"
     ]
    }
   ],
   "source": [
    "mydata.print_elements()"
   ]
  },
  {
   "cell_type": "code",
   "execution_count": 5,
   "id": "551dc4bb",
   "metadata": {},
   "outputs": [
    {
     "name": "stdout",
     "output_type": "stream",
     "text": [
      "1000 -->0 -->1 -->100 -->2 -->3 -->4 -->5 -->"
     ]
    }
   ],
   "source": [
    "mydata.insert_at_beginning(1000)\n",
    "mydata.print_elements()"
   ]
  },
  {
   "cell_type": "code",
   "execution_count": 6,
   "id": "96412e14",
   "metadata": {},
   "outputs": [],
   "source": [
    "mydata.remove_at(1)"
   ]
  },
  {
   "cell_type": "code",
   "execution_count": 7,
   "id": "71d2ad16",
   "metadata": {},
   "outputs": [
    {
     "name": "stdout",
     "output_type": "stream",
     "text": [
      "1000 -->1 -->100 -->2 -->3 -->4 -->5 -->"
     ]
    }
   ],
   "source": [
    "mydata.print_elements()"
   ]
  },
  {
   "cell_type": "code",
   "execution_count": 8,
   "id": "c5fc092d",
   "metadata": {},
   "outputs": [],
   "source": [
    "mydata.remove_by_value(2)"
   ]
  },
  {
   "cell_type": "code",
   "execution_count": 9,
   "id": "3b990be4",
   "metadata": {},
   "outputs": [
    {
     "name": "stdout",
     "output_type": "stream",
     "text": [
      "1000 -->1 -->100 -->3 -->4 -->5 -->"
     ]
    }
   ],
   "source": [
    "mydata.print_elements()"
   ]
  },
  {
   "cell_type": "code",
   "execution_count": 10,
   "id": "017a9750",
   "metadata": {},
   "outputs": [],
   "source": [
    "mydata.insert_after_value(3,45)"
   ]
  },
  {
   "cell_type": "code",
   "execution_count": 11,
   "id": "f545d838",
   "metadata": {},
   "outputs": [
    {
     "name": "stdout",
     "output_type": "stream",
     "text": [
      "1000 -->1 -->100 -->3 -->45 -->4 -->5 -->"
     ]
    }
   ],
   "source": [
    "mydata.print_elements()"
   ]
  },
  {
   "cell_type": "code",
   "execution_count": null,
   "id": "d4056c11",
   "metadata": {},
   "outputs": [],
   "source": []
  }
 ],
 "metadata": {
  "kernelspec": {
   "display_name": "Python 3",
   "language": "python",
   "name": "python3"
  },
  "language_info": {
   "codemirror_mode": {
    "name": "ipython",
    "version": 3
   },
   "file_extension": ".py",
   "mimetype": "text/x-python",
   "name": "python",
   "nbconvert_exporter": "python",
   "pygments_lexer": "ipython3",
   "version": "3.8.8"
  }
 },
 "nbformat": 4,
 "nbformat_minor": 5
}
