{
 "cells": [
  {
   "cell_type": "code",
   "execution_count": 9,
   "id": "7bc018e2",
   "metadata": {},
   "outputs": [],
   "source": [
    "def find_sum(n):\n",
    "    if n==1:\n",
    "        return 1\n",
    "    return n+find_sum(n-1)"
   ]
  },
  {
   "cell_type": "code",
   "execution_count": 10,
   "id": "f3fdc148",
   "metadata": {},
   "outputs": [
    {
     "data": {
      "text/plain": [
       "15"
      ]
     },
     "execution_count": 10,
     "metadata": {},
     "output_type": "execute_result"
    }
   ],
   "source": [
    "find_sum(5)"
   ]
  },
  {
   "cell_type": "code",
   "execution_count": 11,
   "id": "64098c1f",
   "metadata": {},
   "outputs": [
    {
     "data": {
      "text/plain": [
       "15"
      ]
     },
     "execution_count": 11,
     "metadata": {},
     "output_type": "execute_result"
    }
   ],
   "source": [
    "sum(range(6))"
   ]
  },
  {
   "cell_type": "code",
   "execution_count": 14,
   "id": "e6f608ae",
   "metadata": {},
   "outputs": [],
   "source": [
    "def fib(num):\n",
    "    if num==1 or num==0:\n",
    "        return 1\n",
    "    return fib(num-1)+fib(num-2)"
   ]
  },
  {
   "cell_type": "code",
   "execution_count": 15,
   "id": "800b24f5",
   "metadata": {},
   "outputs": [
    {
     "data": {
      "text/plain": [
       "3"
      ]
     },
     "execution_count": 15,
     "metadata": {},
     "output_type": "execute_result"
    }
   ],
   "source": [
    "fib(3)"
   ]
  },
  {
   "cell_type": "code",
   "execution_count": 20,
   "id": "d0e0db44",
   "metadata": {},
   "outputs": [
    {
     "data": {
      "text/plain": [
       "6"
      ]
     },
     "execution_count": 20,
     "metadata": {},
     "output_type": "execute_result"
    }
   ],
   "source": [
    "def binary(lst,ele,low,high):\n",
    "    if low>high:\n",
    "        return 1\n",
    "    mid = (low+high)//2\n",
    "    if lst[mid] == ele:\n",
    "        return mid\n",
    "    if ele > lst[mid]:\n",
    "        low = mid\n",
    "    if ele < lst[mid]:\n",
    "        high = mid\n",
    "        \n",
    "    return binary(lst,ele,low,high) \n",
    "s = [0,11,22,33,44,55,66]\n",
    "binary(s,66,0,len(s))    "
   ]
  },
  {
   "cell_type": "code",
   "execution_count": 95,
   "id": "f648cdad",
   "metadata": {},
   "outputs": [],
   "source": [
    "class TreeNode:\n",
    "    def __init__(self,data):\n",
    "        self.data = data\n",
    "        self.children = []\n",
    "        self.parent = None\n",
    "        \n",
    "    def add_child(self,child):\n",
    "        child.parent = self\n",
    "        self.children.append(child)\n",
    "        \n",
    "        \n",
    "    def get_level(self):\n",
    "        level = 0\n",
    "        ele = self.parent\n",
    "        while ele:\n",
    "            level+=1\n",
    "            ele = ele.parent\n",
    "        return level     \n",
    "        \n",
    "    def print_elements(self):\n",
    "        spaces = ' '*self.get_level()*3\n",
    "        prefix = spaces + \"|___\" if self.parent else \"\"\n",
    "        print(prefix + self.data)\n",
    "        \n",
    "        if self.children:\n",
    "            for child in self.children:\n",
    "                child.print_elements()\n",
    "        \n",
    "        \n",
    "        \n",
    "        "
   ]
  },
  {
   "cell_type": "code",
   "execution_count": 96,
   "id": "3ed0cfcc",
   "metadata": {},
   "outputs": [],
   "source": [
    "def build_product_tree():\n",
    "    root = TreeNode(\"Electronics\")\n",
    "    Laptop = TreeNode(\"Laptop\")\n",
    "    Cell_phone = TreeNode(\"Cell Phones\")\n",
    "    Televisions = TreeNode(\"Televisions\")\n",
    "    Mac = TreeNode(\"Mac\")\n",
    "    Legion = TreeNode(\"Legion\")\n",
    "    Tinkpad = TreeNode(\"Tinkpad\")\n",
    "    Iphone = TreeNode(\"Iphone\")\n",
    "    Oneplus = TreeNode(\"Oneplus\")\n",
    "    Vivo = TreeNode(\"Vivo\")\n",
    "    Samsung = TreeNode(\"Samsung\")\n",
    "    LG = TreeNode(\"LG\")\n",
    "    root.add_child(Laptop)\n",
    "    root.add_child(Cell_phone)\n",
    "    root.add_child(Televisions)\n",
    "    Laptop.add_child(Mac)\n",
    "    Laptop.add_child(Legion)\n",
    "    Laptop.add_child(Tinkpad)\n",
    "    Cell_phone.add_child(Iphone)\n",
    "    Cell_phone.add_child(Oneplus)\n",
    "    Cell_phone.add_child(Vivo)\n",
    "    Televisions.add_child(Samsung)\n",
    "    Televisions.add_child(LG)\n",
    "    root.print_elements()\n",
    "    "
   ]
  },
  {
   "cell_type": "code",
   "execution_count": 177,
   "id": "cb64a87a",
   "metadata": {},
   "outputs": [
    {
     "name": "stdout",
     "output_type": "stream",
     "text": [
      "Electronics\n",
      "   |___Laptop\n",
      "      |___Mac\n",
      "      |___Legion\n",
      "      |___Tinkpad\n",
      "   |___Cell Phones\n",
      "      |___Iphone\n",
      "      |___Oneplus\n",
      "      |___Vivo\n",
      "   |___Televisions\n",
      "      |___Samsung\n",
      "      |___LG\n"
     ]
    }
   ],
   "source": [
    "build_product_tree()"
   ]
  },
  {
   "cell_type": "code",
   "execution_count": 21,
   "id": "4b552bb2",
   "metadata": {},
   "outputs": [],
   "source": [
    "class BinarySearchTree:\n",
    "    def __init__(self,data):\n",
    "        self.data = data\n",
    "        self.left = None\n",
    "        self.right = None\n",
    "        \n",
    "    def add_child(self,data):\n",
    "        if data < self.data:\n",
    "            if self.left:\n",
    "                self.left.add_child(data)\n",
    "            else:\n",
    "                self.left = BinarySearchTree(data)\n",
    "        else:\n",
    "            if self.right:\n",
    "                self.right.add_child(data)\n",
    "            else:\n",
    "                self.right = BinarySearchTree(data)\n",
    "                \n",
    "                \n",
    "    def in_order_traversal(self):\n",
    "        elements = []\n",
    "        if self.left:\n",
    "            elements+=self.left.in_order_traversal()\n",
    "        \n",
    "        elements.append(self.data)\n",
    "        \n",
    "        if self.right:\n",
    "            elements+=self.right.in_order_traversal()\n",
    "            \n",
    "        return elements\n",
    "    \n",
    "    def search_elements(self,val):\n",
    "        if val < self.data:\n",
    "            if self.left:\n",
    "                return self.left.search_elements(val)\n",
    "            else:\n",
    "                return False\n",
    "        if val == self.data:\n",
    "            return True\n",
    "        \n",
    "        if val > self.data:\n",
    "            if self.right:\n",
    "                return self.right.search_elements(val)\n",
    "            else:\n",
    "                return False\n",
    "            \n",
    "            \n",
    "    def delete_node(self,val):\n",
    "        if self.search_elements(val):\n",
    "            if val == self.data:\n",
    "                if self.left == None and self.right == None:\n",
    "                    self.\n",
    "                \n",
    "            if val < self.data:\n",
    "                if self.left:\n",
    "                    return self.left.delete_node(val)\n",
    "            else:\n",
    "                if self.right:\n",
    "                    return self.right.delete_node(val)\n",
    "        else:\n",
    "            return \"there is no such node\"\n",
    "            \n",
    "            \n",
    "                \n",
    "        "
   ]
  },
  {
   "cell_type": "code",
   "execution_count": 26,
   "id": "9016ec42",
   "metadata": {},
   "outputs": [],
   "source": [
    "def insert_elements():\n",
    "    lst = [15,12,14,27,20,23,88]\n",
    "    root = lst[0]\n",
    "    b = BinarySearchTree(root)\n",
    "    for i in range(1,len(lst)):\n",
    "        b.add_child(lst[i])\n",
    "    print(b.in_order_traversal())\n",
    "    print(b.search_elements(100))"
   ]
  },
  {
   "cell_type": "code",
   "execution_count": 27,
   "id": "57f7300b",
   "metadata": {},
   "outputs": [
    {
     "name": "stdout",
     "output_type": "stream",
     "text": [
      "[7, 12, 14, 15, 20, 23, 27, 88]\n",
      "False\n"
     ]
    }
   ],
   "source": [
    "insert_elements()"
   ]
  },
  {
   "cell_type": "code",
   "execution_count": 28,
   "id": "a0255cce",
   "metadata": {},
   "outputs": [
    {
     "name": "stdout",
     "output_type": "stream",
     "text": [
      "Building tree with these elements: [17, 4, 1, 20, 9, 23, 18, 34]\n",
      "After deleting 20  [1, 4, 9, 17, 18, 23, 34]\n",
      "Building tree with these elements: [17, 4, 1, 20, 9, 23, 18, 34]\n",
      "After deleting 9  [1, 4, 17, 18, 20, 23, 34]\n",
      "Building tree with these elements: [17, 4, 1, 20, 9, 23, 18, 34]\n",
      "After deleting 17  [1, 4, 9, 18, 20, 23, 34]\n"
     ]
    }
   ],
   "source": [
    "class BinarySearchTreeNode:\n",
    "    def __init__(self, data):\n",
    "        self.data = data\n",
    "        self.left = None\n",
    "        self.right = None\n",
    "\n",
    "    def add_child(self, data):\n",
    "        if data == self.data:\n",
    "            return # node already exist\n",
    "\n",
    "        if data < self.data:\n",
    "            if self.left:\n",
    "                self.left.add_child(data)\n",
    "            else:\n",
    "                self.left = BinarySearchTreeNode(data)\n",
    "        else:\n",
    "            if self.right:\n",
    "                self.right.add_child(data)\n",
    "            else:\n",
    "                self.right = BinarySearchTreeNode(data)\n",
    "\n",
    "\n",
    "    def search(self, val):\n",
    "        if self.data == val:\n",
    "            return True\n",
    "\n",
    "        if val < self.data:\n",
    "            if self.left:\n",
    "                return self.left.search(val)\n",
    "            else:\n",
    "                return False\n",
    "\n",
    "        if val > self.data:\n",
    "            if self.right:\n",
    "                return self.right.search(val)\n",
    "            else:\n",
    "                return False\n",
    "\n",
    "    def in_order_traversal(self):\n",
    "        elements = []\n",
    "        if self.left:\n",
    "            elements += self.left.in_order_traversal()\n",
    "\n",
    "        elements.append(self.data)\n",
    "\n",
    "        if self.right:\n",
    "            elements += self.right.in_order_traversal()\n",
    "\n",
    "        return elements\n",
    "\n",
    "    def delete(self, val):\n",
    "        if val < self.data:\n",
    "            if self.left:\n",
    "                self.left = self.left.delete(val)\n",
    "        elif val > self.data:\n",
    "            if self.right:\n",
    "                self.right = self.right.delete(val)\n",
    "        else:\n",
    "            if self.left is None and self.right is None:\n",
    "                return None\n",
    "            elif self.left is None:\n",
    "                return self.right\n",
    "            elif self.right is None:\n",
    "                return self.left\n",
    "\n",
    "            min_val = self.right.find_min()\n",
    "            self.data = min_val\n",
    "            self.right = self.right.delete(min_val)\n",
    "\n",
    "        return self\n",
    "\n",
    "    def find_max(self):\n",
    "        if self.right is None:\n",
    "            return self.data\n",
    "        return self.right.find_max()\n",
    "\n",
    "    def find_min(self):\n",
    "        if self.left is None:\n",
    "            return self.data\n",
    "        return self.left.find_min()\n",
    "\n",
    "\n",
    "def build_tree(elements):\n",
    "    print(\"Building tree with these elements:\",elements)\n",
    "    root = BinarySearchTreeNode(elements[0])\n",
    "\n",
    "    for i in range(1,len(elements)):\n",
    "        root.add_child(elements[i])\n",
    "\n",
    "    return root\n",
    "\n",
    "if __name__ == '__main__':\n",
    "    numbers_tree = build_tree([17, 4, 1, 20, 9, 23, 18, 34])\n",
    "    numbers_tree.delete(20)\n",
    "    print(\"After deleting 20 \",numbers_tree.in_order_traversal()) # this should print [1, 4, 9, 17, 18, 23, 34]\n",
    "\n",
    "    numbers_tree = build_tree([17, 4, 1, 20, 9, 23, 18, 34])\n",
    "    numbers_tree.delete(9)\n",
    "    print(\"After deleting 9 \",numbers_tree.in_order_traversal())  # this should print [1, 4, 17, 18, 20, 23, 34]\n",
    "\n",
    "    numbers_tree = build_tree([17, 4, 1, 20, 9, 23, 18, 34])\n",
    "    numbers_tree.delete(17)\n",
    "    print(\"After deleting 17 \",numbers_tree.in_order_traversal())  # this should print [1, 4, 9, 18, 20, 23, 34]"
   ]
  },
  {
   "cell_type": "code",
   "execution_count": null,
   "id": "aecb54b1",
   "metadata": {},
   "outputs": [],
   "source": []
  }
 ],
 "metadata": {
  "kernelspec": {
   "display_name": "Python 3",
   "language": "python",
   "name": "python3"
  },
  "language_info": {
   "codemirror_mode": {
    "name": "ipython",
    "version": 3
   },
   "file_extension": ".py",
   "mimetype": "text/x-python",
   "name": "python",
   "nbconvert_exporter": "python",
   "pygments_lexer": "ipython3",
   "version": "3.8.8"
  }
 },
 "nbformat": 4,
 "nbformat_minor": 5
}
