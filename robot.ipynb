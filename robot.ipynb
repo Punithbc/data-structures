{
 "cells": [
  {
   "cell_type": "code",
   "execution_count": 24,
   "id": "e69c1c17",
   "metadata": {},
   "outputs": [
    {
     "name": "stdout",
     "output_type": "stream",
     "text": [
      "0 , 5 , N\n",
      "0 , 0 , W\n",
      "20 , 0 , S\n",
      "5 , 0 , E\n",
      "6 , 9 , N\n"
     ]
    }
   ],
   "source": [
    "import re\n",
    "def my_fun(usr_input):\n",
    "    data = re.split(',|\\/',usr_input)\n",
    "    mydic = {\n",
    "    \"limit_x\" : int(data[0]),\n",
    "    \"limit_y\" : int(data[1]),\n",
    "    \"x\" :int(data[2]),\n",
    "    \"y\" : int(data[3]),\n",
    "    \"direction\":data[4]\n",
    "            }\n",
    "    count=[]\n",
    "    for i in data[-1]:\n",
    "        count.append(i)\n",
    "    for i in range(len(count)):\n",
    "        if (count[i] == 'F' and mydic[\"direction\"]==\"N\" ):\n",
    "            mydic[\"y\"]+=1 \n",
    "        elif(count[i] == 'F' and mydic[\"direction\"]==\"E\"):\n",
    "            mydic[\"x\"]+=1\n",
    "        elif(count[i] == 'F' and mydic[\"direction\"]==\"W\"):\n",
    "            mydic[\"x\"]-=1\n",
    "        elif(count[i] == 'F' and mydic[\"direction\"]==\"S\"):\n",
    "            mydic[\"y\"]-=1\n",
    "            \n",
    "        elif(count[i] == 'R'):\n",
    "            if mydic[\"direction\"]==\"N\":\n",
    "                mydic[\"direction\"]=\"E\"\n",
    "            elif mydic[\"direction\"]==\"E\":\n",
    "                mydic[\"direction\"]=\"S\"\n",
    "            elif mydic[\"direction\"]==\"S\":\n",
    "                mydic[\"direction\"]=\"W\"\n",
    "            else:\n",
    "                mydic[\"direction\"]=\"N\"\n",
    "        elif(count[i]==\"L\"):\n",
    "            if mydic[\"direction\"]==\"N\":\n",
    "                mydic[\"direction\"]=\"W\"\n",
    "            elif mydic[\"direction\"]==\"E\":\n",
    "                mydic[\"direction\"]=\"N\"\n",
    "            elif mydic[\"direction\"]==\"S\":\n",
    "                mydic[\"direction\"]=\"E\"\n",
    "            else:\n",
    "                mydic[\"direction\"]=\"S\"\n",
    "            \n",
    "    if(mydic[\"x\"]<0):\n",
    "        mydic[\"x\"]=0\n",
    "    elif(mydic[\"x\"]>mydic[\"limit_x\"]):\n",
    "        mydic[\"x\"]=mydic[\"limit_x\"]\n",
    "    elif(mydic[\"y\"]>mydic[\"limit_y\"]):\n",
    "        mydic[\"y\"]=mydic[\"limit_y\"]\n",
    "    if(mydic[\"y\"]<0):\n",
    "        mydic[\"y\"]=0\n",
    "\n",
    "    print(mydic[\"x\"],\",\",mydic[\"y\"],\",\",mydic[\"direction\"]) \n",
    "    \n",
    "lst=[\"13,21/0,0,N/FFFFF\",\"20,20/2,0,W/FFFF\",\"20,20/18,6,E/FFFFRFFFFFF\",\"13,21/0,0,E/FFFFF\",\"10,20/2,3,N/RFFFFLFFFFFF\"]\n",
    "for i in lst:\n",
    "    my_fun(i)"
   ]
  },
  {
   "cell_type": "code",
   "execution_count": null,
   "id": "a4cb1491",
   "metadata": {},
   "outputs": [],
   "source": []
  },
  {
   "cell_type": "code",
   "execution_count": null,
   "id": "a1fdff00",
   "metadata": {},
   "outputs": [],
   "source": []
  }
 ],
 "metadata": {
  "kernelspec": {
   "display_name": "Python 3",
   "language": "python",
   "name": "python3"
  }
 },
 "nbformat": 4,
 "nbformat_minor": 5
}
