{
 "cells": [
  {
   "cell_type": "code",
   "execution_count": 87,
   "id": "0df627c1",
   "metadata": {},
   "outputs": [
    {
     "name": "stdout",
     "output_type": "stream",
     "text": [
      "13,21/0,0,E/FFFFF\n"
     ]
    },
    {
     "data": {
      "text/plain": [
       "['13', '21', '0', '0', 'E', 'FFFFF']"
      ]
     },
     "execution_count": 87,
     "metadata": {},
     "output_type": "execute_result"
    }
   ],
   "source": [
    "import re\n",
    "str = input()\n",
    "data = re.split(',|\\/',str)\n",
    "data"
   ]
  },
  {
   "cell_type": "code",
   "execution_count": 88,
   "id": "a0d9058a",
   "metadata": {},
   "outputs": [],
   "source": [
    "mydic = {\n",
    "\"limit_x\" : int(data[0]),\n",
    "\"limit_y\" : int(data[1]),\n",
    "\"x\" :int(data[2]),\n",
    "\"y\" : int(data[3]),\n",
    "\"direction\":data[4]\n",
    "        }"
   ]
  },
  {
   "cell_type": "code",
   "execution_count": 89,
   "id": "85134606",
   "metadata": {},
   "outputs": [
    {
     "data": {
      "text/plain": [
       "13"
      ]
     },
     "execution_count": 89,
     "metadata": {},
     "output_type": "execute_result"
    }
   ],
   "source": [
    "mydic[\"limit_x\"]"
   ]
  },
  {
   "cell_type": "code",
   "execution_count": 90,
   "id": "9b4ed171",
   "metadata": {},
   "outputs": [],
   "source": [
    "count=[]\n",
    "for i in data[-1]:\n",
    "    count.append(i)\n",
    "    "
   ]
  },
  {
   "cell_type": "code",
   "execution_count": 91,
   "id": "a6be4482",
   "metadata": {},
   "outputs": [
    {
     "data": {
      "text/plain": [
       "['F', 'F', 'F', 'F', 'F']"
      ]
     },
     "execution_count": 91,
     "metadata": {},
     "output_type": "execute_result"
    }
   ],
   "source": [
    "count"
   ]
  },
  {
   "cell_type": "code",
   "execution_count": 92,
   "id": "e69c1c17",
   "metadata": {},
   "outputs": [],
   "source": [
    "\n",
    "for i in range(len(count)):\n",
    "    if (count[i] == 'F' and mydic[\"direction\"]==\"N\" ):\n",
    "        mydic[\"y\"]+=1 \n",
    "    elif(count[i] == 'F' and mydic[\"direction\"]==\"E\"):\n",
    "        mydic[\"x\"]+=1    \n",
    "    elif(count[i] == 'R'):\n",
    "        if mydic[\"direction\"]==\"N\":\n",
    "            mydic[\"direction\"]=\"E\"\n",
    "        elif mydic[\"direction\"]==\"E\":\n",
    "            mydic[\"direction\"]=\"S\"\n",
    "        elif mydic[\"direction\"]==\"S\":\n",
    "            mydic[\"direction\"]=\"W\"\n",
    "        else:\n",
    "            mydic[\"direction\"]=\"N\"\n",
    " \n",
    "    elif(count[i] == 'F'):\n",
    "        Right += 1"
   ]
  },
  {
   "cell_type": "code",
   "execution_count": 107,
   "id": "25ea19fe",
   "metadata": {},
   "outputs": [
    {
     "name": "stdout",
     "output_type": "stream",
     "text": [
      "5 , 0 , E\n"
     ]
    }
   ],
   "source": [
    "print(mydic[\"x\"],\",\",mydic[\"y\"],\",\",mydic[\"direction\"])"
   ]
  },
  {
   "cell_type": "code",
   "execution_count": null,
   "id": "a4cb1491",
   "metadata": {},
   "outputs": [],
   "source": []
  },
  {
   "cell_type": "code",
   "execution_count": null,
   "id": "a1fdff00",
   "metadata": {},
   "outputs": [],
   "source": []
  }
 ],
 "metadata": {
  "kernelspec": {
   "display_name": "Python 3",
   "language": "python",
   "name": "python3"
  },
  "language_info": {
   "codemirror_mode": {
    "name": "ipython",
    "version": 3
   },
   "file_extension": ".py",
   "mimetype": "text/x-python",
   "name": "python",
   "nbconvert_exporter": "python",
   "pygments_lexer": "ipython3",
   "version": "3.8.8"
  }
 },
 "nbformat": 4,
 "nbformat_minor": 5
}
