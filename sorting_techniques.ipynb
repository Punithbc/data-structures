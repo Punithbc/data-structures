{
 "cells": [
  {
   "cell_type": "code",
   "execution_count": 36,
   "id": "2ae03948",
   "metadata": {},
   "outputs": [],
   "source": [
    "def insertion_sort(lst):\n",
    "    for i in range(1,len(lst)):\n",
    "        anchor = lst[i]\n",
    "        j = i-1\n",
    "        while j>=0 and anchor < lst[j]:\n",
    "            lst[j+1] = lst[j]\n",
    "            j-=1\n",
    "        lst[j+1]=anchor\n",
    "    return lst     \n",
    "    "
   ]
  },
  {
   "cell_type": "code",
   "execution_count": 37,
   "id": "db49995e",
   "metadata": {},
   "outputs": [
    {
     "data": {
      "text/plain": [
       "[2, 7, 9, 11, 15, 28, 29]"
      ]
     },
     "execution_count": 37,
     "metadata": {},
     "output_type": "execute_result"
    }
   ],
   "source": [
    "lst = [11,9,29,7,2,15,28]\n",
    "insertion_sort(lst)"
   ]
  },
  {
   "cell_type": "code",
   "execution_count": 62,
   "id": "9920af05",
   "metadata": {},
   "outputs": [],
   "source": [
    "def merge_two_lists(arr1,arr2,arr):\n",
    "    len_of_arr1 = len(arr1)\n",
    "    len_of_arr2 = len(arr2)\n",
    "    i=j=k=0\n",
    "    while i < len_of_arr1 and j< len_of_arr2:\n",
    "        if arr1[i] <= arr2[j]:\n",
    "            arr[k] = arr1[i]\n",
    "            i+=1\n",
    "        else:\n",
    "            arr[k] = arr2[j]\n",
    "            j+=1\n",
    "        k+=1\n",
    "        \n",
    "    while i < len_of_arr1:\n",
    "        arr[k] = arr1[i]\n",
    "        i+=1\n",
    "        k+=1\n",
    "        \n",
    "    while j < len_of_arr2:\n",
    "        arr[k] = arr2[j]\n",
    "        j+=1\n",
    "        k+=1\n",
    "        "
   ]
  },
  {
   "cell_type": "code",
   "execution_count": 63,
   "id": "28ad33d1",
   "metadata": {},
   "outputs": [],
   "source": [
    "def merge_sort(arr):\n",
    "    if len(arr)<=1:\n",
    "        return\n",
    "    mid = len(arr)//2\n",
    "    left = arr[:mid]\n",
    "    right = arr[mid:]\n",
    "    merge_sort(left)\n",
    "    merge_sort(right)\n",
    "    merge_two_lists(left,right,arr)"
   ]
  },
  {
   "cell_type": "code",
   "execution_count": 64,
   "id": "6e30908f",
   "metadata": {},
   "outputs": [
    {
     "name": "stdout",
     "output_type": "stream",
     "text": [
      "[3, 7, 8, 10, 15, 23, 29, 98]\n",
      "[]\n",
      "[3]\n",
      "[2, 7, 8, 9]\n",
      "[1, 2, 3, 4, 5]\n"
     ]
    }
   ],
   "source": [
    "\n",
    "test_cases = [\n",
    "    [10, 3, 15, 7, 8, 23, 98, 29],\n",
    "    [],\n",
    "    [3],\n",
    "    [9,8,7,2],\n",
    "    [1,2,3,4,5]\n",
    "]\n",
    "\n",
    "for arr in test_cases:\n",
    "    merge_sort(arr)\n",
    "    print(arr)\n"
   ]
  },
  {
   "cell_type": "code",
   "execution_count": 11,
   "id": "3c1ef8de",
   "metadata": {},
   "outputs": [],
   "source": [
    "def shell_sort(arr):\n",
    "    gap = len(arr)//2\n",
    "    while gap>0:\n",
    "        for i in range(gap,len(arr)):\n",
    "            anchor = arr[i]\n",
    "            j = i\n",
    "            while j>=gap and anchor < arr[j-gap]:\n",
    "                arr[j] = arr[j-gap]\n",
    "                j-=gap\n",
    "            arr[j] = anchor  \n",
    "        gap//=2 \n",
    "\n",
    "    return arr\n",
    "    "
   ]
  },
  {
   "cell_type": "code",
   "execution_count": 12,
   "id": "ca6681c7",
   "metadata": {},
   "outputs": [
    {
     "data": {
      "text/plain": [
       "[2, 7, 9, 11, 15, 28, 29]"
      ]
     },
     "execution_count": 12,
     "metadata": {},
     "output_type": "execute_result"
    }
   ],
   "source": [
    "shell_sort([11,9,29,7,2,15,28])"
   ]
  },
  {
   "cell_type": "code",
   "execution_count": 39,
   "id": "849962bc",
   "metadata": {},
   "outputs": [],
   "source": [
    "def insertion_sort(arr):\n",
    "    for i in range(len(arr)-1):\n",
    "        min_index = i\n",
    "        for j in range(min_index+1,len(arr)):\n",
    "            if arr[j] < arr[min_index]:\n",
    "                min_index = j\n",
    "        arr[i],arr[min_index] = arr[min_index],arr[i]\n",
    "    return arr  "
   ]
  },
  {
   "cell_type": "code",
   "execution_count": 40,
   "id": "72ca2147",
   "metadata": {},
   "outputs": [
    {
     "data": {
      "text/plain": [
       "[2, 7, 9, 11, 15, 28, 29]"
      ]
     },
     "execution_count": 40,
     "metadata": {},
     "output_type": "execute_result"
    }
   ],
   "source": [
    "insertion_sort([11,9,29,7,2,15,28]) "
   ]
  },
  {
   "cell_type": "code",
   "execution_count": null,
   "id": "bd8a050a",
   "metadata": {},
   "outputs": [],
   "source": []
  }
 ],
 "metadata": {
  "kernelspec": {
   "display_name": "Python 3",
   "language": "python",
   "name": "python3"
  },
  "language_info": {
   "codemirror_mode": {
    "name": "ipython",
    "version": 3
   },
   "file_extension": ".py",
   "mimetype": "text/x-python",
   "name": "python",
   "nbconvert_exporter": "python",
   "pygments_lexer": "ipython3",
   "version": "3.8.8"
  }
 },
 "nbformat": 4,
 "nbformat_minor": 5
}
