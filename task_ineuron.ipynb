{
 "cells": [
  {
   "cell_type": "code",
   "execution_count": null,
   "id": "5749c348",
   "metadata": {},
   "outputs": [],
   "source": [
    "q1 :\n",
    "ineruon \n",
    "ineruon ineruon \n",
    "ineruon ineruon ineruon\n",
    "ineruon ineruon ineruon ineruon\n",
    "\n",
    "q2 - \n",
    "\n",
    "          ineruon\n",
    "    ineruon      ineruon\n",
    "ineruon\t\tineruon \tineruon\n",
    "\tineruon\t\t ineruon\n",
    "\t\t  ineruon\n",
    "\n",
    "l = [[1,2,3,4] , (2,3,4,5,6) , (3,4,5,6,7) , set([23,4,5,45,4,4,5,45,45,4,5]) , {'k1' :\"sudh\" , \"k2\" : \"ineuron\",\"k3\":\n",
    "            \"kumar\" , 3:6 , 7:8} , [\"ineuron\" , \"data science \"]]\n",
    "\n",
    "q3 : Try to extract all the list entity \n",
    "q4 : Try to extract all the dict enteties\n",
    "q5 : Try to extract all the tuples entities\n",
    "q6 : Try to extract all the numerical data it may b a part of dict key and values \n",
    "q7 : Try to give summation of all the numeric data \n",
    "q8 : Try to filter out all the odd values out all numeric data which is a part of a list \n",
    "q9 : Try to extract \"ineruon\" out of this data\n",
    "q10 :Try to find out a number of occurances of all the data \n",
    "q11 : Try to find out number of keys in dict element\n",
    "q12 : Try to filter out all the string data \n",
    "q13 : Try to Find  out alphanum in data\n",
    "q14 : Try to find out multiplication of all numeric value in  the individual collection inside dataset \n",
    "q15 : Try to unwrape all the collection inside collection and create a flat list \n",
    "    \n",
    "    \n",
    "before 29th may 2022 3 PM IST you have to send an answer to me or to shivan \n",
    "sudhanshu@ineuron.ai\n",
    "shivan@ineuron.ai"
   ]
  },
  {
   "cell_type": "markdown",
   "id": "169ffcf0",
   "metadata": {},
   "source": [
    "# q1"
   ]
  },
  {
   "cell_type": "code",
   "execution_count": 9,
   "id": "a230624c",
   "metadata": {},
   "outputs": [
    {
     "name": "stdout",
     "output_type": "stream",
     "text": [
      "ineuron \t\n",
      "ineuron ineuron \t\n",
      "ineuron ineuron ineuron \t\n",
      "ineuron ineuron ineuron ineuron \t\n"
     ]
    }
   ],
   "source": [
    "n = 5\n",
    "for i in range(1,n):\n",
    "    for j in range(i):\n",
    "        print(\"ineuron\",end=\" \")\n",
    "    print(\"\\t\")    "
   ]
  },
  {
   "cell_type": "markdown",
   "id": "8ee5e312",
   "metadata": {},
   "source": [
    "# q2"
   ]
  },
  {
   "cell_type": "code",
   "execution_count": 41,
   "id": "5e70e28d",
   "metadata": {},
   "outputs": [
    {
     "name": "stdout",
     "output_type": "stream",
     "text": [
      "                \n",
      "              ineuron\n",
      "         ineuron   ineuron\n",
      "    ineuron   ineuron   ineuron\n",
      "         ineuron   ineuron\n",
      "              ineuron\n"
     ]
    }
   ],
   "source": [
    "n = 3\n",
    "for i in range(n+1):\n",
    "    print(\"     \"*(n-i),\"   ineuron\"*i)\n",
    "for j in range(n-1):\n",
    "    print(\"     \"*(j+1),\"   ineuron\"*(n-j-1))\n",
    "    "
   ]
  },
  {
   "cell_type": "markdown",
   "id": "09e83604",
   "metadata": {},
   "source": [
    "# q3"
   ]
  },
  {
   "cell_type": "code",
   "execution_count": 42,
   "id": "90972f3f",
   "metadata": {},
   "outputs": [],
   "source": [
    "l = [[1,2,3,4] , (2,3,4,5,6) , (3,4,5,6,7) , set([23,4,5,45,4,4,5,45,45,4,5]) , {'k1' :\"sudh\" , \"k2\" : \"ineuron\",\"k3\":\n",
    "            \"kumar\" , 3:6 , 7:8} , [\"ineuron\" , \"data science \"]]"
   ]
  },
  {
   "cell_type": "code",
   "execution_count": 44,
   "id": "4d2c3d13",
   "metadata": {},
   "outputs": [
    {
     "name": "stdout",
     "output_type": "stream",
     "text": [
      "[1, 2, 3, 4]\n",
      "['ineuron', 'data science ']\n"
     ]
    }
   ],
   "source": [
    "for i in l:\n",
    "    if type(i)==list:\n",
    "        print(i)\n",
    "    "
   ]
  },
  {
   "cell_type": "markdown",
   "id": "9e2c595e",
   "metadata": {},
   "source": [
    "# q4"
   ]
  },
  {
   "cell_type": "code",
   "execution_count": 45,
   "id": "86ac36df",
   "metadata": {},
   "outputs": [
    {
     "name": "stdout",
     "output_type": "stream",
     "text": [
      "{'k1': 'sudh', 'k2': 'ineuron', 'k3': 'kumar', 3: 6, 7: 8}\n"
     ]
    }
   ],
   "source": [
    "for i in l:\n",
    "    if type(i)==dict:\n",
    "        print(i)"
   ]
  },
  {
   "cell_type": "markdown",
   "id": "cc18932d",
   "metadata": {},
   "source": [
    "# q5"
   ]
  },
  {
   "cell_type": "code",
   "execution_count": 46,
   "id": "0d3d2ea8",
   "metadata": {},
   "outputs": [
    {
     "name": "stdout",
     "output_type": "stream",
     "text": [
      "(2, 3, 4, 5, 6)\n",
      "(3, 4, 5, 6, 7)\n"
     ]
    }
   ],
   "source": [
    "for i in l:\n",
    "    if type(i)==tuple:\n",
    "        print(i)"
   ]
  },
  {
   "cell_type": "markdown",
   "id": "b6d4a760",
   "metadata": {},
   "source": [
    "# q6"
   ]
  },
  {
   "cell_type": "code",
   "execution_count": 71,
   "id": "9fcbb576",
   "metadata": {},
   "outputs": [
    {
     "data": {
      "text/plain": [
       "[1, 2, 3, 4, 2, 3, 4, 5, 6, 3, 4, 5, 6, 7, 45, 4, 5, 23, 3, 6, 7, 8]"
      ]
     },
     "execution_count": 71,
     "metadata": {},
     "output_type": "execute_result"
    }
   ],
   "source": [
    "lst = []\n",
    "for i in l:\n",
    "    if type(i)==dict:\n",
    "        for key,value in i.items():\n",
    "            if type(key)==int:\n",
    "                lst.append(key)\n",
    "            if type(value)==int:\n",
    "                lst.append(value)\n",
    "    else:            \n",
    "        for j in i:\n",
    "            if type(j)==int:\n",
    "                lst.append(j)\n",
    "            \n",
    "lst            "
   ]
  },
  {
   "cell_type": "code",
   "execution_count": 72,
   "id": "833a7c2b",
   "metadata": {},
   "outputs": [
    {
     "data": {
      "text/plain": [
       "22"
      ]
     },
     "execution_count": 72,
     "metadata": {},
     "output_type": "execute_result"
    }
   ],
   "source": [
    "len(lst)"
   ]
  },
  {
   "cell_type": "markdown",
   "id": "f099e141",
   "metadata": {},
   "source": [
    "# q7"
   ]
  },
  {
   "cell_type": "code",
   "execution_count": 73,
   "id": "c523e829",
   "metadata": {},
   "outputs": [
    {
     "data": {
      "text/plain": [
       "156"
      ]
     },
     "execution_count": 73,
     "metadata": {},
     "output_type": "execute_result"
    }
   ],
   "source": [
    "sum(lst)"
   ]
  },
  {
   "cell_type": "markdown",
   "id": "8f36ba59",
   "metadata": {},
   "source": [
    "# q8"
   ]
  },
  {
   "cell_type": "code",
   "execution_count": 59,
   "id": "36f81aa9",
   "metadata": {},
   "outputs": [
    {
     "name": "stdout",
     "output_type": "stream",
     "text": [
      "1\n",
      "3\n"
     ]
    }
   ],
   "source": [
    "for i in l:\n",
    "    if type(i)==list:\n",
    "        for j in i:\n",
    "            if type(j)==int and j%2!=0:\n",
    "                print(j)"
   ]
  },
  {
   "cell_type": "markdown",
   "id": "5fdf22e7",
   "metadata": {},
   "source": [
    "# q9"
   ]
  },
  {
   "cell_type": "code",
   "execution_count": 61,
   "id": "93100ce5",
   "metadata": {},
   "outputs": [
    {
     "name": "stdout",
     "output_type": "stream",
     "text": [
      "ineuron\n",
      "ineuron\n"
     ]
    }
   ],
   "source": [
    "for i in l:\n",
    "    if type(i)==dict:\n",
    "        for key,value in i.items():\n",
    "            if key==\"ineuron\":\n",
    "                print(key)\n",
    "            if value==\"ineuron\":\n",
    "                print(value)\n",
    "    else:\n",
    "        for j in i:\n",
    "            if j==\"ineuron\":\n",
    "                print(j)"
   ]
  },
  {
   "cell_type": "markdown",
   "id": "5f46f758",
   "metadata": {},
   "source": [
    "# q10"
   ]
  },
  {
   "cell_type": "code",
   "execution_count": 90,
   "id": "17e49cb0",
   "metadata": {},
   "outputs": [
    {
     "data": {
      "text/plain": [
       "{1: 1,\n",
       " 2: 2,\n",
       " 3: 4,\n",
       " 4: 4,\n",
       " 5: 3,\n",
       " 6: 3,\n",
       " 7: 2,\n",
       " 45: 1,\n",
       " 23: 1,\n",
       " 'k1': 1,\n",
       " 'sudh': 1,\n",
       " 'k2': 1,\n",
       " 'ineuron': 2,\n",
       " 'k3': 1,\n",
       " 'kumar': 1,\n",
       " 8: 1,\n",
       " 'data science ': 1}"
      ]
     },
     "execution_count": 90,
     "metadata": {},
     "output_type": "execute_result"
    }
   ],
   "source": [
    "lst = []\n",
    "for i in l:\n",
    "    if type(i)==dict:\n",
    "        for key,value in i.items():\n",
    "            lst.append(key)\n",
    "            lst.append(value)\n",
    "    else:            \n",
    "        for j in i:\n",
    "            lst.append(j)\n",
    "lst            \n",
    "\n",
    "mylst = {}\n",
    "for i in lst:\n",
    "    if i not in mylst:\n",
    "        mylst[i]=lst.count(i)\n",
    "        \n",
    "mylst        \n",
    "\n",
    "    "
   ]
  },
  {
   "cell_type": "markdown",
   "id": "e6f421d6",
   "metadata": {},
   "source": [
    "# q11\n"
   ]
  },
  {
   "cell_type": "code",
   "execution_count": 113,
   "id": "ec9276e1",
   "metadata": {},
   "outputs": [
    {
     "data": {
      "text/plain": [
       "5"
      ]
     },
     "execution_count": 113,
     "metadata": {},
     "output_type": "execute_result"
    }
   ],
   "source": [
    "count = 0\n",
    "for i in l:\n",
    "    if type(i)==dict:\n",
    "        for key,value in i.items():\n",
    "            count+=1\n",
    "        \n",
    "count        "
   ]
  },
  {
   "cell_type": "markdown",
   "id": "39d7ef5e",
   "metadata": {},
   "source": [
    "# q12"
   ]
  },
  {
   "cell_type": "code",
   "execution_count": 93,
   "id": "eef5d912",
   "metadata": {},
   "outputs": [
    {
     "name": "stdout",
     "output_type": "stream",
     "text": [
      "k1\n",
      "sudh\n",
      "k2\n",
      "ineuron\n",
      "k3\n",
      "kumar\n",
      "ineuron\n",
      "data science \n"
     ]
    }
   ],
   "source": [
    "for i in l:\n",
    "    if type(i)==dict:\n",
    "        for key,value in i.items():\n",
    "            if type(key)==str:\n",
    "                print(key)\n",
    "            if type(value)==str:\n",
    "                print(value)\n",
    "    else:\n",
    "        for j in i:\n",
    "            if type(j)==str:\n",
    "                print(j)"
   ]
  },
  {
   "cell_type": "markdown",
   "id": "d7a0bed2",
   "metadata": {},
   "source": [
    "# q13"
   ]
  },
  {
   "cell_type": "code",
   "execution_count": 101,
   "id": "0adf7b79",
   "metadata": {},
   "outputs": [
    {
     "name": "stdout",
     "output_type": "stream",
     "text": [
      "k1\n",
      "k2\n",
      "k3\n"
     ]
    }
   ],
   "source": [
    "def is_alnum(strg):\n",
    "    is_letter = False\n",
    "    is_num = False\n",
    "    for i in strg:\n",
    "        if i.isdigit():\n",
    "            is_num = True\n",
    "        if i.isalpha():\n",
    "            is_letter = True\n",
    "    if is_letter and is_num:   \n",
    "        return True\n",
    "    else:\n",
    "        return False\n",
    "        \n",
    "    \n",
    "for i in l:\n",
    "    if type(i)==dict:\n",
    "        for key,value in i.items():\n",
    "            if type(key)==str:\n",
    "                if is_alnum(key):\n",
    "                    print(key)\n",
    "            if type(value)==str:\n",
    "                if is_alnum(value):\n",
    "                    print(value)\n",
    "    else:\n",
    "        for j in i:\n",
    "            if type(j)==str:\n",
    "                if is_alnum(j):\n",
    "                    print(j)"
   ]
  },
  {
   "cell_type": "markdown",
   "id": "c5d573b7",
   "metadata": {},
   "source": [
    "# q14"
   ]
  },
  {
   "cell_type": "code",
   "execution_count": 111,
   "id": "3f9d8f36",
   "metadata": {},
   "outputs": [
    {
     "name": "stdout",
     "output_type": "stream",
     "text": [
      "multiplication of <class 'list'> is:  24\n",
      "multiplication of <class 'tuple'> is:  720\n",
      "multiplication of <class 'tuple'> is:  2520\n",
      "multiplication of <class 'set'> is:  20700\n",
      "multiplication of dict is:  1008\n",
      "multiplication of <class 'list'> is:  0\n"
     ]
    }
   ],
   "source": [
    "for i in l:\n",
    "    if type(i)==dict:\n",
    "        count = 1\n",
    "        for key,value in i.items():\n",
    "            if type(key)==int:\n",
    "                count*=key\n",
    "            if type(value)==int:\n",
    "                count*=int(value)\n",
    "\n",
    "        print(\"multiplication of dict is: \",count)            \n",
    "                \n",
    "    else:\n",
    "        count = 1\n",
    "        for j in i:\n",
    "            if type(j)==int:\n",
    "                count*=j\n",
    "        if count==1:\n",
    "            count=0\n",
    "        print(f\"multiplication of {type(i)} is: \",count)        \n",
    "            "
   ]
  },
  {
   "cell_type": "markdown",
   "id": "50e6cbb7",
   "metadata": {},
   "source": [
    "# q15"
   ]
  },
  {
   "cell_type": "code",
   "execution_count": 112,
   "id": "db5e3d92",
   "metadata": {},
   "outputs": [
    {
     "data": {
      "text/plain": [
       "[1,\n",
       " 2,\n",
       " 3,\n",
       " 4,\n",
       " 2,\n",
       " 3,\n",
       " 4,\n",
       " 5,\n",
       " 6,\n",
       " 3,\n",
       " 4,\n",
       " 5,\n",
       " 6,\n",
       " 7,\n",
       " 45,\n",
       " 4,\n",
       " 5,\n",
       " 23,\n",
       " 'k1',\n",
       " 'sudh',\n",
       " 'k2',\n",
       " 'ineuron',\n",
       " 'k3',\n",
       " 'kumar',\n",
       " 3,\n",
       " 6,\n",
       " 7,\n",
       " 8,\n",
       " 'ineuron',\n",
       " 'data science ']"
      ]
     },
     "execution_count": 112,
     "metadata": {},
     "output_type": "execute_result"
    }
   ],
   "source": [
    "lst = []\n",
    "for i in l:\n",
    "    if type(i)==dict:\n",
    "        for key,value in i.items():\n",
    "                lst.append(key)\n",
    "                lst.append(value)\n",
    "    else:            \n",
    "        for j in i:\n",
    "            lst.append(j)\n",
    "            \n",
    "lst"
   ]
  },
  {
   "cell_type": "code",
   "execution_count": null,
   "id": "9a4d67f3",
   "metadata": {},
   "outputs": [],
   "source": []
  }
 ],
 "metadata": {
  "kernelspec": {
   "display_name": "Python 3",
   "language": "python",
   "name": "python3"
  },
  "language_info": {
   "codemirror_mode": {
    "name": "ipython",
    "version": 3
   },
   "file_extension": ".py",
   "mimetype": "text/x-python",
   "name": "python",
   "nbconvert_exporter": "python",
   "pygments_lexer": "ipython3",
   "version": "3.8.8"
  }
 },
 "nbformat": 4,
 "nbformat_minor": 5
}
